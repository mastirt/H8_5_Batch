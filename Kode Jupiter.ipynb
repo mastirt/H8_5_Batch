{
 "cells": [
  {
   "cell_type": "markdown",
   "id": "2d85703b",
   "metadata": {},
   "source": [
    "# KODE JUPYTER"
   ]
  },
  {
   "cell_type": "markdown",
   "id": "6b4889c3",
   "metadata": {},
   "source": [
    "## simple syntax"
   ]
  },
  {
   "cell_type": "code",
   "execution_count": 1,
   "id": "e66c48b6",
   "metadata": {},
   "outputs": [
    {
     "name": "stdout",
     "output_type": "stream",
     "text": [
      "Haloooo Mahesa\n"
     ]
    }
   ],
   "source": [
    "print(\"Haloooo Mahesa\")"
   ]
  },
  {
   "cell_type": "code",
   "execution_count": 2,
   "id": "ecca1172",
   "metadata": {},
   "outputs": [
    {
     "name": "stdout",
     "output_type": "stream",
     "text": [
      "1\n",
      "2\n",
      "3\n",
      "4\n",
      "5\n",
      "6\n",
      "7\n",
      "8\n",
      "9\n",
      "10\n"
     ]
    }
   ],
   "source": [
    "i = 1\n",
    "\n",
    "while (i <=10):\n",
    "    print(i)\n",
    "    i += 1"
   ]
  },
  {
   "cell_type": "markdown",
   "id": "b9545403",
   "metadata": {},
   "source": [
    "## Using Library"
   ]
  },
  {
   "cell_type": "code",
   "execution_count": 3,
   "id": "734475db",
   "metadata": {},
   "outputs": [],
   "source": [
    "import pandas as pd\n",
    "import numpy as np"
   ]
  },
  {
   "cell_type": "code",
   "execution_count": 4,
   "id": "8eb59536",
   "metadata": {},
   "outputs": [
    {
     "data": {
      "text/html": [
       "<div>\n",
       "<style scoped>\n",
       "    .dataframe tbody tr th:only-of-type {\n",
       "        vertical-align: middle;\n",
       "    }\n",
       "\n",
       "    .dataframe tbody tr th {\n",
       "        vertical-align: top;\n",
       "    }\n",
       "\n",
       "    .dataframe thead th {\n",
       "        text-align: right;\n",
       "    }\n",
       "</style>\n",
       "<table border=\"1\" class=\"dataframe\">\n",
       "  <thead>\n",
       "    <tr style=\"text-align: right;\">\n",
       "      <th></th>\n",
       "      <th>A</th>\n",
       "      <th>B</th>\n",
       "      <th>C</th>\n",
       "    </tr>\n",
       "  </thead>\n",
       "  <tbody>\n",
       "    <tr>\n",
       "      <th>0</th>\n",
       "      <td>1</td>\n",
       "      <td>2</td>\n",
       "      <td>3</td>\n",
       "    </tr>\n",
       "    <tr>\n",
       "      <th>1</th>\n",
       "      <td>4</td>\n",
       "      <td>5</td>\n",
       "      <td>6</td>\n",
       "    </tr>\n",
       "  </tbody>\n",
       "</table>\n",
       "</div>"
      ],
      "text/plain": [
       "   A  B  C\n",
       "0  1  2  3\n",
       "1  4  5  6"
      ]
     },
     "execution_count": 4,
     "metadata": {},
     "output_type": "execute_result"
    }
   ],
   "source": [
    "data = pd.DataFrame(data=np.array([[1,2,3],[4,5,6]], dtype=int), columns=['A', 'B', 'C'])\n",
    "data"
   ]
  },
  {
   "cell_type": "markdown",
   "id": "b68229a2",
   "metadata": {},
   "source": [
    "## Using Latex\n"
   ]
  },
  {
   "cell_type": "markdown",
   "id": "d85716e0",
   "metadata": {},
   "source": [
    "$$\n",
    "c = \\sqrt{a^2 + b^2}\n",
    "$$"
   ]
  },
  {
   "cell_type": "code",
   "execution_count": 5,
   "id": "7daef03b",
   "metadata": {},
   "outputs": [
    {
     "data": {
      "text/latex": [
       "$\\displaystyle \\sqrt{a^2 + b^2}$"
      ],
      "text/plain": [
       "<IPython.core.display.Math object>"
      ]
     },
     "metadata": {},
     "output_type": "display_data"
    }
   ],
   "source": [
    "from IPython.display import display, Math, Latex\n",
    "display(Math(r'\\sqrt{a^2 + b^2}'))"
   ]
  },
  {
   "cell_type": "markdown",
   "id": "91e69686",
   "metadata": {},
   "source": [
    "## Executing Shell Commands"
   ]
  },
  {
   "cell_type": "code",
   "execution_count": 6,
   "id": "9deec093",
   "metadata": {},
   "outputs": [
    {
     "name": "stdout",
     "output_type": "stream",
     "text": [
      " Volume in drive C is Acer\n",
      " Volume Serial Number is 0C27-0470\n",
      "\n",
      " Directory of C:\\Users\\mahesa\\OneDrive\\Documents\\Tugas Kuliah\\semester7\\HACKTIVE8\\H8_5_Batch\n",
      "\n",
      "17/08/2023  12:48    <DIR>          .\n",
      "17/08/2023  12:43    <DIR>          ..\n",
      "15/08/2023  20:26    <DIR>          .ipynb_checkpoints\n",
      "17/08/2023  12:48            12.457 Kode Jupiter.ipynb\n",
      "               1 File(s)         12.457 bytes\n",
      "               3 Dir(s)  184.483.033.088 bytes free\n",
      "C:\\Users\\mahesa\\OneDrive\\Documents\\Tugas Kuliah\\semester7\\HACKTIVE8\\H8_5_Batch\n",
      "'Heloo'\n"
     ]
    }
   ],
   "source": [
    "!dir\n",
    "!cd\n",
    "!echo 'Heloo'"
   ]
  },
  {
   "cell_type": "markdown",
   "id": "53a33971",
   "metadata": {},
   "source": [
    "### pass value to and from shell"
   ]
  },
  {
   "cell_type": "code",
   "execution_count": 7,
   "id": "b26716d5",
   "metadata": {},
   "outputs": [
    {
     "name": "stdout",
     "output_type": "stream",
     "text": [
      "[' Volume in drive C is Acer', ' Volume Serial Number is 0C27-0470', '', ' Directory of C:\\\\Users\\\\mahesa\\\\OneDrive\\\\Documents\\\\Tugas Kuliah\\\\semester7\\\\HACKTIVE8\\\\H8_5_Batch', '', '17/08/2023  12:48    <DIR>          .', '17/08/2023  12:43    <DIR>          ..', '15/08/2023  20:26    <DIR>          .ipynb_checkpoints', '17/08/2023  12:48            12.457 Kode Jupiter.ipynb', '               1 File(s)         12.457 bytes', '               3 Dir(s)  184.483.037.184 bytes free']\n"
     ]
    }
   ],
   "source": [
    "files = !dir\n",
    "print(files)"
   ]
  },
  {
   "cell_type": "markdown",
   "id": "bd8e4d4c",
   "metadata": {},
   "source": [
    "## widgets\n"
   ]
  },
  {
   "cell_type": "code",
   "execution_count": 8,
   "id": "02ce14e4",
   "metadata": {},
   "outputs": [],
   "source": [
    "from ipywidgets import interact\n",
    "import ipywidgets as widgets"
   ]
  },
  {
   "cell_type": "markdown",
   "id": "2f386f46",
   "metadata": {},
   "source": [
    "### basic slider"
   ]
  },
  {
   "cell_type": "code",
   "execution_count": 9,
   "id": "060d7f7b",
   "metadata": {},
   "outputs": [
    {
     "data": {
      "application/vnd.jupyter.widget-view+json": {
       "model_id": "366b639210ec4750ba9667836a0f51b8",
       "version_major": 2,
       "version_minor": 0
      },
      "text/plain": [
       "interactive(children=(IntSlider(value=10, description='x', max=30, min=-10), Output()), _dom_classes=('widget-…"
      ]
     },
     "metadata": {},
     "output_type": "display_data"
    },
    {
     "data": {
      "text/plain": [
       "<function __main__.f(x)>"
      ]
     },
     "execution_count": 9,
     "metadata": {},
     "output_type": "execute_result"
    }
   ],
   "source": [
    "def f(x):\n",
    "    return x\n",
    "\n",
    "interact(f, x=10)"
   ]
  },
  {
   "cell_type": "markdown",
   "id": "29113abb",
   "metadata": {},
   "source": [
    "### checkbox"
   ]
  },
  {
   "cell_type": "code",
   "execution_count": 10,
   "id": "f8d6ac01",
   "metadata": {},
   "outputs": [
    {
     "data": {
      "application/vnd.jupyter.widget-view+json": {
       "model_id": "2dce852ad30c463eaf537572279abdeb",
       "version_major": 2,
       "version_minor": 0
      },
      "text/plain": [
       "interactive(children=(Checkbox(value=False, description='x'), Output()), _dom_classes=('widget-interact',))"
      ]
     },
     "metadata": {},
     "output_type": "display_data"
    },
    {
     "data": {
      "text/plain": [
       "<function __main__.f(x)>"
      ]
     },
     "execution_count": 10,
     "metadata": {},
     "output_type": "execute_result"
    }
   ],
   "source": [
    "interact(f,x=False)"
   ]
  },
  {
   "cell_type": "markdown",
   "id": "fc134ad9",
   "metadata": {},
   "source": [
    "### Textbox"
   ]
  },
  {
   "cell_type": "code",
   "execution_count": 11,
   "id": "123d55d1",
   "metadata": {},
   "outputs": [
    {
     "data": {
      "application/vnd.jupyter.widget-view+json": {
       "model_id": "fa454361f08b435ab9488e590697815e",
       "version_major": 2,
       "version_minor": 0
      },
      "text/plain": [
       "interactive(children=(Text(value='Hi Mahesa', description='x'), Output()), _dom_classes=('widget-interact',))"
      ]
     },
     "metadata": {},
     "output_type": "display_data"
    },
    {
     "data": {
      "text/plain": [
       "<function __main__.f(x)>"
      ]
     },
     "execution_count": 11,
     "metadata": {},
     "output_type": "execute_result"
    }
   ],
   "source": [
    "interact(f,x='Hi Mahesa')"
   ]
  },
  {
   "cell_type": "markdown",
   "id": "11072334",
   "metadata": {},
   "source": [
    "### play button"
   ]
  },
  {
   "cell_type": "code",
   "execution_count": 12,
   "id": "b1a76673",
   "metadata": {},
   "outputs": [
    {
     "data": {
      "application/vnd.jupyter.widget-view+json": {
       "model_id": "8341383d30094f248aaad7f6205b7e5f",
       "version_major": 2,
       "version_minor": 0
      },
      "text/plain": [
       "HBox(children=(Play(value=50, description='Tekan Play'), IntSlider(value=0)))"
      ]
     },
     "execution_count": 12,
     "metadata": {},
     "output_type": "execute_result"
    }
   ],
   "source": [
    "play = widgets.Play(\n",
    "value=50,\n",
    "min=0,\n",
    "max=100,\n",
    "step=1,\n",
    "description=\"Tekan Play\",\n",
    "disabled=False)\n",
    "slider = widgets.IntSlider()\n",
    "widgets.jslink((play,'value'),(slider,'value'))\n",
    "widgets.HBox([play,slider])"
   ]
  },
  {
   "cell_type": "code",
   "execution_count": 13,
   "id": "345307d7",
   "metadata": {},
   "outputs": [
    {
     "data": {
      "application/vnd.jupyter.widget-view+json": {
       "model_id": "e124ab890c9148dd8c9b71bc4327d3f3",
       "version_major": 2,
       "version_minor": 0
      },
      "text/plain": [
       "DatePicker(value=None, description='Pilih Tanggal', step=1)"
      ]
     },
     "execution_count": 13,
     "metadata": {},
     "output_type": "execute_result"
    }
   ],
   "source": [
    "widgets.DatePicker(\n",
    "    description=\"Pilih Tanggal\",\n",
    "    disabled=False\n",
    ")"
   ]
  },
  {
   "cell_type": "code",
   "execution_count": 14,
   "id": "5ef0066d",
   "metadata": {},
   "outputs": [
    {
     "data": {
      "application/vnd.jupyter.widget-view+json": {
       "model_id": "0cb1186d0c8c4711ad0c8fb7d2a943a9",
       "version_major": 2,
       "version_minor": 0
      },
      "text/plain": [
       "Tab(children=(Text(value='', description='K0'), Text(value='', description='K1'), Text(value='', description='…"
      ]
     },
     "execution_count": 14,
     "metadata": {},
     "output_type": "execute_result"
    }
   ],
   "source": [
    "tab_contents = ['K0', 'K1', 'K2', 'K3', 'K4']\n",
    "children = [widgets.Text(description = name) for name in tab_contents]\n",
    "tab = widgets.Tab()\n",
    "tab.children = children\n",
    "for i in range(len(children)):\n",
    "    tab.set_title(i, str(i))\n",
    "tab"
   ]
  },
  {
   "cell_type": "code",
   "execution_count": 15,
   "id": "f719c1cf",
   "metadata": {},
   "outputs": [
    {
     "name": "stdout",
     "output_type": "stream",
     "text": [
      "(first suite)\n",
      "x is small\n"
     ]
    }
   ],
   "source": [
    "x = 20\n",
    "if x < 50:\n",
    "    print('(first suite)')\n",
    "    print('x is small')\n",
    "else:\n",
    "    print('(second suite)')\n",
    "    print('x is large')"
   ]
  },
  {
   "cell_type": "code",
   "execution_count": 20,
   "id": "280b98d1",
   "metadata": {},
   "outputs": [
    {
     "name": "stdout",
     "output_type": "stream",
     "text": [
      "Ketikan temperatur yang ingin dikonversi, eg. 45F, 120C: 40C\n",
      "Temperaturnya adalah 104 derajat\n"
     ]
    },
    {
     "data": {
      "text/plain": [
       "40"
      ]
     },
     "execution_count": 20,
     "metadata": {},
     "output_type": "execute_result"
    }
   ],
   "source": [
    "temp = input(\"Ketikan temperatur yang ingin dikonversi, eg. 45F, 120C: \")\n",
    "degree = int(temp[:-1])\n",
    "i_convertion = temp[-1]\n",
    "\n",
    "if i_convertion == \"C\":\n",
    "    result = int(round((9 * degree) / 5 + 32))\n",
    "elif i_convertion == \"F\":\n",
    "    result = int(round((degree - 32) * 5 / 9))\n",
    "else:\n",
    "    print(\"Masukan input yang benar\")\n",
    "print(\"Temperaturnya adalah\", result, \"derajat\")\n",
    "degree"
   ]
  },
  {
   "cell_type": "code",
   "execution_count": null,
   "id": "fa3cecb3",
   "metadata": {},
   "outputs": [],
   "source": []
  }
 ],
 "metadata": {
  "kernelspec": {
   "display_name": "Python 3 (ipykernel)",
   "language": "python",
   "name": "python3"
  },
  "language_info": {
   "codemirror_mode": {
    "name": "ipython",
    "version": 3
   },
   "file_extension": ".py",
   "mimetype": "text/x-python",
   "name": "python",
   "nbconvert_exporter": "python",
   "pygments_lexer": "ipython3",
   "version": "3.11.4"
  },
  "toc": {
   "base_numbering": 1,
   "nav_menu": {},
   "number_sections": true,
   "sideBar": true,
   "skip_h1_title": false,
   "title_cell": "Table of Contents",
   "title_sidebar": "Contents",
   "toc_cell": false,
   "toc_position": {},
   "toc_section_display": true,
   "toc_window_display": false
  }
 },
 "nbformat": 4,
 "nbformat_minor": 5
}
