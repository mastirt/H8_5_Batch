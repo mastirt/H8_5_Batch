{
 "cells": [
  {
   "cell_type": "markdown",
   "id": "ce6778ca",
   "metadata": {},
   "source": [
    "**MAHESA TIRTA PANJALU(PYTN-KS18-012)** "
   ]
  },
  {
   "cell_type": "markdown",
   "id": "fae6d34e",
   "metadata": {},
   "source": [
    "# Soal 1"
   ]
  },
  {
   "cell_type": "code",
   "execution_count": 19,
   "id": "98b71b1c",
   "metadata": {},
   "outputs": [
    {
     "name": "stdout",
     "output_type": "stream",
     "text": [
      "Masukan Angka : 1 2 3 4 5\n",
      "[5, 10, 15, 20, 25]\n"
     ]
    }
   ],
   "source": [
    "data = []\n",
    "def perkalianLima(angka):\n",
    "    perkalianLima = [x * 5 for x in angka]\n",
    "    print(perkalianLima)\n",
    "    \n",
    "data = map(int, input('Masukan Angka : ').split(\" \"))\n",
    "        \n",
    "perkalianLima(data)"
   ]
  },
  {
   "cell_type": "markdown",
   "id": "2ba07403",
   "metadata": {},
   "source": [
    "# Soal 2"
   ]
  },
  {
   "cell_type": "code",
   "execution_count": 48,
   "id": "344a30cf",
   "metadata": {},
   "outputs": [
    {
     "name": "stdout",
     "output_type": "stream",
     "text": [
      "Masukan Banyak Data : 5\n",
      "Input Data ke - 1  : \n",
      "1\n",
      "Input Data ke - 2  : \n",
      "2\n",
      "Input Data ke - 3  : \n",
      "3\n",
      "Input Data ke - 4  : \n",
      "4\n",
      "Input Data ke - 5  : \n",
      "5\n",
      "Rata-ratanya Adalah  3.0\n",
      "Variannya Adalah 2.5\n",
      "Standard Deviasi Adalah :  1.5811388300841898\n"
     ]
    }
   ],
   "source": [
    "data = []\n",
    "jmhData = int(input('Masukan Banyak Data : '))\n",
    "x=1\n",
    "\n",
    "while x <= jmhData:\n",
    "    print(\"Input Data ke -\", x, \" : \")\n",
    "    angka = int(input())\n",
    "    data.append(angka)\n",
    "    x += 1\n",
    "\n",
    "\n",
    "\n",
    "def varian(data, banyakData):\n",
    "    totalData = 0\n",
    "    penyebut = 0\n",
    "    \n",
    "    for i in data:\n",
    "        totalData = totalData + i;\n",
    "        \n",
    "    mean = totalData/banyakData\n",
    "    \n",
    "    for i in data:\n",
    "        datamean = (i - mean)**2\n",
    "        penyebut = penyebut + datamean\n",
    "        \n",
    "    varian = penyebut/(banyakData-1)\n",
    "    \n",
    "    print('Rata-ratanya Adalah ', mean)\n",
    "    print('Variannya Adalah', varian)\n",
    "    return varian\n",
    "    \n",
    "def standardeviasi(varian):\n",
    "    sd = varian**0.5\n",
    "    print('Standard Deviasi Adalah : ', sd)\n",
    "    \n",
    "\n",
    "    \n",
    "Varian = varian(data, jmhData)\n",
    "standardeviasi(Varian)"
   ]
  },
  {
   "cell_type": "markdown",
   "id": "6f9ee159",
   "metadata": {},
   "source": [
    "# Soal 3"
   ]
  },
  {
   "cell_type": "code",
   "execution_count": 45,
   "id": "352c4bcf",
   "metadata": {},
   "outputs": [
    {
     "name": "stdout",
     "output_type": "stream",
     "text": [
      "Masukan Angka : 45 12 3 56 23 78\n",
      "[45, 12, 3, 56, 23, 78]\n",
      "Hasil Sorting :  [3, 12, 23, 45, 56, 78]\n",
      "Nilai Terbesar dari data :  78\n",
      "Nilai Terkecil dari data :  3\n"
     ]
    }
   ],
   "source": [
    "data = []\n",
    "angka = map(int, input('Masukan Angka : ').split(\" \"))\n",
    "\n",
    "for x in angka:\n",
    "    data.append(x)\n",
    "\n",
    "print(data)\n",
    "\n",
    "def sort(lis):\n",
    "    n = len(lis)\n",
    "    swapped = False\n",
    "    for i in range(n-1):\n",
    "        for j in range(0, n-i-1):\n",
    "            if lis[j] > lis[j + 1]:\n",
    "                swapped = True\n",
    "                lis[j], lis[j + 1] = lis[j + 1], lis[j]\n",
    "        if not swapped:\n",
    "            return\n",
    "sort(data)\n",
    "print('Hasil Sorting : ', data)\n",
    "print('Nilai Terbesar dari data : ', data[-1])\n",
    "print('Nilai Terkecil dari data : ', data[0])"
   ]
  },
  {
   "cell_type": "markdown",
   "id": "64d60120",
   "metadata": {},
   "source": [
    "# Soal 4"
   ]
  },
  {
   "cell_type": "code",
   "execution_count": 36,
   "id": "e984005d",
   "metadata": {},
   "outputs": [
    {
     "name": "stdout",
     "output_type": "stream",
     "text": [
      "lroW olleH\n"
     ]
    }
   ],
   "source": [
    "kalimat = input(\"Masukan sebuah kalimat : \")\n",
    "\n",
    "\n",
    "\n",
    "# txt = \"Hello Worl\" [::-1]\n",
    "# print(txt)"
   ]
  },
  {
   "cell_type": "code",
   "execution_count": null,
   "id": "360d6960",
   "metadata": {},
   "outputs": [],
   "source": []
  }
 ],
 "metadata": {
  "kernelspec": {
   "display_name": "Python 3 (ipykernel)",
   "language": "python",
   "name": "python3"
  },
  "language_info": {
   "codemirror_mode": {
    "name": "ipython",
    "version": 3
   },
   "file_extension": ".py",
   "mimetype": "text/x-python",
   "name": "python",
   "nbconvert_exporter": "python",
   "pygments_lexer": "ipython3",
   "version": "3.11.4"
  },
  "toc": {
   "base_numbering": 1,
   "nav_menu": {},
   "number_sections": true,
   "sideBar": true,
   "skip_h1_title": false,
   "title_cell": "Table of Contents",
   "title_sidebar": "Contents",
   "toc_cell": false,
   "toc_position": {},
   "toc_section_display": true,
   "toc_window_display": false
  }
 },
 "nbformat": 4,
 "nbformat_minor": 5
}
