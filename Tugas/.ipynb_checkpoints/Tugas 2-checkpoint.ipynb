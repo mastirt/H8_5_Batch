{
 "cells": [
  {
   "cell_type": "markdown",
   "id": "eb584973",
   "metadata": {},
   "source": [
    "# Soal 1"
   ]
  },
  {
   "cell_type": "code",
   "execution_count": 19,
   "id": "551b0978",
   "metadata": {},
   "outputs": [
    {
     "name": "stdout",
     "output_type": "stream",
     "text": [
      "Masukan Angka : 1 2 3 4 5\n",
      "[5, 10, 15, 20, 25]\n"
     ]
    }
   ],
   "source": [
    "data = []\n",
    "def perkalianLima(angka):\n",
    "    perkalianLima = [x * 5 for x in angka]\n",
    "    print(perkalianLima)\n",
    "    \n",
    "data = map(int, input('Masukan Angka : ').split(\" \"))\n",
    "        \n",
    "perkalianLima(data)"
   ]
  },
  {
   "cell_type": "markdown",
   "id": "855bbc9d",
   "metadata": {},
   "source": [
    "# Soal 2"
   ]
  },
  {
   "cell_type": "code",
   "execution_count": 42,
   "id": "9144c283",
   "metadata": {},
   "outputs": [
    {
     "name": "stdout",
     "output_type": "stream",
     "text": [
      "Masukan Banyak Data : 5\n",
      "Input Data ke - 1  : \n",
      "1\n",
      "Input Data ke - 2  : \n",
      "2\n",
      "Input Data ke - 3  : \n",
      "3\n",
      "Input Data ke - 4  : \n",
      "4\n",
      "Input Data ke - 5  : \n",
      "5\n"
     ]
    },
    {
     "ename": "UnboundLocalError",
     "evalue": "cannot access local variable 'penyebut' where it is not associated with a value",
     "output_type": "error",
     "traceback": [
      "\u001b[1;31m---------------------------------------------------------------------------\u001b[0m",
      "\u001b[1;31mUnboundLocalError\u001b[0m                         Traceback (most recent call last)",
      "Cell \u001b[1;32mIn[42], line 32\u001b[0m\n\u001b[0;32m     28\u001b[0m     \u001b[38;5;28mprint\u001b[39m(\u001b[38;5;124m'\u001b[39m\u001b[38;5;124mRata-ratanya Adalah \u001b[39m\u001b[38;5;124m'\u001b[39m, mean)\n\u001b[0;32m     29\u001b[0m     \u001b[38;5;28mprint\u001b[39m(\u001b[38;5;124m'\u001b[39m\u001b[38;5;124mVariannya Adalah\u001b[39m\u001b[38;5;124m'\u001b[39m, varian)\n\u001b[1;32m---> 32\u001b[0m varian(data, jmhData)\n",
      "Cell \u001b[1;32mIn[42], line 24\u001b[0m, in \u001b[0;36mvarian\u001b[1;34m(data, banyakData)\u001b[0m\n\u001b[0;32m     22\u001b[0m \u001b[38;5;28;01mfor\u001b[39;00m i \u001b[38;5;129;01min\u001b[39;00m data:\n\u001b[0;32m     23\u001b[0m     datamean \u001b[38;5;241m=\u001b[39m (i \u001b[38;5;241m-\u001b[39m mean)\u001b[38;5;241m*\u001b[39m\u001b[38;5;241m*\u001b[39m\u001b[38;5;241m2\u001b[39m\n\u001b[1;32m---> 24\u001b[0m     penyebut \u001b[38;5;241m=\u001b[39m penyebut \u001b[38;5;241m+\u001b[39m datamean\n\u001b[0;32m     26\u001b[0m varian \u001b[38;5;241m=\u001b[39m penyebut\u001b[38;5;241m/\u001b[39m(banyakData\u001b[38;5;241m-\u001b[39m\u001b[38;5;241m1\u001b[39m)\n\u001b[0;32m     28\u001b[0m \u001b[38;5;28mprint\u001b[39m(\u001b[38;5;124m'\u001b[39m\u001b[38;5;124mRata-ratanya Adalah \u001b[39m\u001b[38;5;124m'\u001b[39m, mean)\n",
      "\u001b[1;31mUnboundLocalError\u001b[0m: cannot access local variable 'penyebut' where it is not associated with a value"
     ]
    }
   ],
   "source": [
    "data = []\n",
    "jmhData = int(input('Masukan Banyak Data : '))\n",
    "x=1\n",
    "\n",
    "while x <= jmhData:\n",
    "    print(\"Input Data ke -\", x, \" : \")\n",
    "    angka = int(input())\n",
    "    data.append(angka)\n",
    "    x += 1\n",
    "\n",
    "\n",
    "\n",
    "def varian(data, banyakData):\n",
    "    totalData = 0\n",
    "    \n",
    "    for i in data:\n",
    "        totalData = totalData + i;\n",
    "        \n",
    "    mean = jmhData/banyakData\n",
    "    \n",
    "    for i in data:\n",
    "        datamean = (i - mean)**2\n",
    "        penyebut = penyebut + datamean\n",
    "        \n",
    "    varian = penyebut/(banyakData-1)\n",
    "    \n",
    "    print('Rata-ratanya Adalah ', mean)\n",
    "    print('Variannya Adalah', varian)\n",
    "\n",
    "    \n",
    "varian(data, jmhData)"
   ]
  },
  {
   "cell_type": "markdown",
   "id": "e6242767",
   "metadata": {},
   "source": [
    "# Soal 3"
   ]
  },
  {
   "cell_type": "code",
   "execution_count": 34,
   "id": "b8f588a2",
   "metadata": {},
   "outputs": [
    {
     "name": "stdout",
     "output_type": "stream",
     "text": [
      "Masukan Angka : 87 45 76 1 90 43\n",
      "<map object at 0x0000013F921536D0>\n",
      "[87, 45, 76, 1, 90, 43]\n",
      "Hasil Sorting :  [1, 43, 45, 76, 87, 90]\n",
      "Nilai Terbesar dari data :  90\n",
      "Nilai Terkecil dari data :  1\n"
     ]
    }
   ],
   "source": [
    "data = []\n",
    "angka = map(int, input('Masukan Angka : ').split(\" \"))\n",
    "\n",
    "for x in angka:\n",
    "    data.append(x)\n",
    "\n",
    "print(data)\n",
    "\n",
    "def sort(lis):\n",
    "    n = len(lis)\n",
    "    swapped = False\n",
    "    for i in range(n-1):\n",
    "        for j in range(0, n-i-1):\n",
    "            if lis[j] > lis[j + 1]:\n",
    "                swapped = True\n",
    "                lis[j], lis[j + 1] = lis[j + 1], lis[j]\n",
    "        if not swapped:\n",
    "            return\n",
    "sort(data)\n",
    "print('Hasil Sorting : ', data)\n",
    "print('Nilai Terbesar dari data : ', data[-1])\n",
    "print('Nilai Terkecil dari data : ', data[0])"
   ]
  },
  {
   "cell_type": "markdown",
   "id": "41741177",
   "metadata": {},
   "source": [
    "# Soal 4"
   ]
  },
  {
   "cell_type": "code",
   "execution_count": 36,
   "id": "a82b59bb",
   "metadata": {},
   "outputs": [
    {
     "name": "stdout",
     "output_type": "stream",
     "text": [
      "lroW olleH\n"
     ]
    }
   ],
   "source": [
    "kalimat = input(\"Masukan sebuah kalimat : \")\n",
    "\n",
    "\n",
    "\n",
    "# txt = \"Hello Worl\" [::-1]\n",
    "# print(txt)"
   ]
  },
  {
   "cell_type": "code",
   "execution_count": null,
   "id": "bb5d9103",
   "metadata": {},
   "outputs": [],
   "source": []
  }
 ],
 "metadata": {
  "kernelspec": {
   "display_name": "Python 3 (ipykernel)",
   "language": "python",
   "name": "python3"
  },
  "language_info": {
   "codemirror_mode": {
    "name": "ipython",
    "version": 3
   },
   "file_extension": ".py",
   "mimetype": "text/x-python",
   "name": "python",
   "nbconvert_exporter": "python",
   "pygments_lexer": "ipython3",
   "version": "3.11.4"
  },
  "toc": {
   "base_numbering": 1,
   "nav_menu": {},
   "number_sections": true,
   "sideBar": true,
   "skip_h1_title": false,
   "title_cell": "Table of Contents",
   "title_sidebar": "Contents",
   "toc_cell": false,
   "toc_position": {},
   "toc_section_display": true,
   "toc_window_display": false
  }
 },
 "nbformat": 4,
 "nbformat_minor": 5
}
