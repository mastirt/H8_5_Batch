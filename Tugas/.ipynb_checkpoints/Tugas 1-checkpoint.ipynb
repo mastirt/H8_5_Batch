{
 "cells": [
  {
   "cell_type": "markdown",
   "id": "1d3aa670",
   "metadata": {},
   "source": [
    "# Soal 1"
   ]
  },
  {
   "cell_type": "code",
   "execution_count": 11,
   "id": "b2272e45",
   "metadata": {},
   "outputs": [
    {
     "name": "stdout",
     "output_type": "stream",
     "text": [
      "Masukan Angka : 2\n",
      "Bilangan  2  Tergolong Bilangan Genap\n"
     ]
    }
   ],
   "source": [
    "angka = int(input(\"Masukan Angka : \"))\n",
    "if angka == 0:\n",
    "    print(\"0 Bukanlah Bilangan Ganjil Maupun Genap\")\n",
    "elif angka < 0:\n",
    "    print(\"Masukan Bilangan Positif\")\n",
    "elif (angka%2) == 0:\n",
    "    print(\"Bilangan \", angka, \" Tergolong Bilangan Genap\")\n",
    "else:\n",
    "    print(\"Bilangan \", angka, \" Tergolong Bilangan Ganjil\")"
   ]
  },
  {
   "cell_type": "markdown",
   "id": "2e2331de",
   "metadata": {},
   "source": [
    "# Soal 2"
   ]
  },
  {
   "cell_type": "code",
   "execution_count": 14,
   "id": "5e04f9b7",
   "metadata": {},
   "outputs": [
    {
     "name": "stdout",
     "output_type": "stream",
     "text": [
      "MENU MENGHITUNG RUMUS LUAS SEGITIGA DAN PERSEGI\n",
      "1. Luas Segitiga\n",
      "2. Luas Persegi\n",
      "Pilhan Menu yang Diinginkan : 2\n",
      "Masukan Sisi Persegi : 8\n",
      "Luas Persegi Tersebut Adalah  64\n"
     ]
    }
   ],
   "source": [
    "print(\"MENU MENGHITUNG RUMUS LUAS SEGITIGA DAN PERSEGI\")\n",
    "print(\"1. Luas Segitiga\")\n",
    "print(\"2. Luas Persegi\")\n",
    "menu = int(input(\"Pilhan Menu yang Diinginkan : \"))\n",
    "\n",
    "if menu == 1:\n",
    "    tinggi = int(input(\"Masukan Tinggi Segitiga : \"))\n",
    "    alas = int(input(\"Masukan Alas Segitiga : \"))\n",
    "    luas = (alas*tinggi)/2\n",
    "    print(\"Luas Segitiga Tersebut Adalah \", luas)\n",
    "elif menu == 2:\n",
    "    sisi = int(input(\"Masukan Sisi Persegi : \"))\n",
    "    luas = sisi*sisi\n",
    "    print(\"Luas Persegi Tersebut Adalah \", luas)\n",
    "else:\n",
    "    print(\"Masukan Inputan Yang Benar\")"
   ]
  },
  {
   "cell_type": "markdown",
   "id": "de4226bd",
   "metadata": {},
   "source": [
    "# Soal 3"
   ]
  },
  {
   "cell_type": "code",
   "execution_count": 20,
   "id": "389e0def",
   "metadata": {},
   "outputs": [
    {
     "name": "stdout",
     "output_type": "stream",
     "text": [
      "Masukan Jumlah Hari : 380\n",
      "380 Hari =  1  Tahun  0  Bulan  2  Minggu  6  Hari\n"
     ]
    }
   ],
   "source": [
    "totalHari = int(input(\"Masukan Jumlah Hari : \"))\n",
    "tahun = 0\n",
    "bulan = 0\n",
    "minggu = 0\n",
    "\n",
    "if totalHari >= 360:\n",
    "    tahun = totalHari // 360\n",
    "    hari= totalHari % 360\n",
    "    \n",
    "if hari >=30:\n",
    "    bulan = hari // 30\n",
    "    hari %= 30\n",
    "    \n",
    "if hari >= 7:\n",
    "    minggu = hari // 7\n",
    "    hari%=7\n",
    "            \n",
    "print(totalHari, \"Hari = \", tahun, \" Tahun \", bulan, \" Bulan \", minggu, \" Minggu \", hari, \" Hari\")\n",
    "    "
   ]
  },
  {
   "cell_type": "markdown",
   "id": "52342b5e",
   "metadata": {},
   "source": [
    "# Soal 4"
   ]
  },
  {
   "cell_type": "code",
   "execution_count": 22,
   "id": "1cd00448",
   "metadata": {},
   "outputs": [
    {
     "name": "stdout",
     "output_type": "stream",
     "text": [
      "Masukan Sebuah Kalimat : haloo perkenalkan nama saya mahesa tirta panjalu dari universitas gunadarma\n",
      "Kalimat yang dimasukan terlalu panjang\n"
     ]
    }
   ],
   "source": [
    "kalimat = input(\"Masukan Sebuah Kalimat : \")\n",
    "\n",
    "if len(kalimat) < 50:\n",
    "    print(\"Jumlah Kalimat Ideal, Berikut Ini Adalah Kalimatnya ; \", kalimat)\n",
    "else:\n",
    "    print(\"Kalimat yang dimasukan terlalu panjang\")"
   ]
  },
  {
   "cell_type": "markdown",
   "id": "c5aa4382",
   "metadata": {},
   "source": [
    "# Soal 5"
   ]
  },
  {
   "cell_type": "code",
   "execution_count": 26,
   "id": "4c965f7c",
   "metadata": {},
   "outputs": [
    {
     "name": "stdout",
     "output_type": "stream",
     "text": [
      "Masukan Suhu (Dalam Fahrenheit) :100\n",
      "Suhu Badan Anda :  37.77777777777778 Derajat Celcius\n",
      "ANDA HIPERTEMIA, SEGERA LAKUKAN SWAB TEST DAN KARANTINA MANDIRI\n"
     ]
    }
   ],
   "source": [
    "suhu = int(input(\"Masukan Suhu (Dalam Fahrenheit) :\"))\n",
    "\n",
    "celcius = (suhu - 32) * 5 / 9\n",
    "print(\"Suhu Badan Anda : \", celcius, \"Derajat Celcius\")\n",
    "\n",
    "if 36.5 <= celcius <= 37.2:\n",
    "    print(\"SUHU BADAN NORMAL\")\n",
    "elif celcius > 37.2:\n",
    "    print(\"ANDA HIPERTEMIA, SEGERA LAKUKAN SWAB TEST DAN KARANTINA MANDIRI\")\n",
    "else:\n",
    "    print(\"ANDA HIPOTERMIA, SEGERA BERI PERTOLONGA PERTAMA\")\n",
    "\n"
   ]
  },
  {
   "cell_type": "code",
   "execution_count": null,
   "id": "18a1b8a9",
   "metadata": {},
   "outputs": [],
   "source": []
  }
 ],
 "metadata": {
  "kernelspec": {
   "display_name": "Python 3 (ipykernel)",
   "language": "python",
   "name": "python3"
  },
  "language_info": {
   "codemirror_mode": {
    "name": "ipython",
    "version": 3
   },
   "file_extension": ".py",
   "mimetype": "text/x-python",
   "name": "python",
   "nbconvert_exporter": "python",
   "pygments_lexer": "ipython3",
   "version": "3.11.4"
  },
  "toc": {
   "base_numbering": 1,
   "nav_menu": {},
   "number_sections": true,
   "sideBar": true,
   "skip_h1_title": false,
   "title_cell": "Table of Contents",
   "title_sidebar": "Contents",
   "toc_cell": false,
   "toc_position": {},
   "toc_section_display": true,
   "toc_window_display": false
  }
 },
 "nbformat": 4,
 "nbformat_minor": 5
}
