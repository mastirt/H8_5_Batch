{
 "cells": [
  {
   "cell_type": "markdown",
   "id": "09a70816",
   "metadata": {},
   "source": [
    "# Conditional"
   ]
  },
  {
   "cell_type": "markdown",
   "id": "35dc4739",
   "metadata": {},
   "source": [
    "## IF Statement"
   ]
  },
  {
   "cell_type": "code",
   "execution_count": 3,
   "id": "53d1810e",
   "metadata": {},
   "outputs": [
    {
     "name": "stdout",
     "output_type": "stream",
     "text": [
      "yes\n",
      "yes\n",
      "yes\n"
     ]
    }
   ],
   "source": [
    "x = 0\n",
    "y = 5\n",
    "if x < y:  # Truthy\n",
    "    print('yes')\n",
    "if y < x:  # Falsy\n",
    "    print('yes')\n",
    "if x:  # Falsy\n",
    "    print('yes')\n",
    "if y:  # Truthy\n",
    "    print('yes')\n",
    "if 'aul' in 'grault':  # Truthy\n",
    "    print('yes')\n",
    "if 'quux' in ['foo', 'bar', 'baz']:  # Falsy\n",
    "    print('yes')"
   ]
  },
  {
   "cell_type": "code",
   "execution_count": 5,
   "id": "0d7f70ff",
   "metadata": {},
   "outputs": [
    {
     "name": "stdout",
     "output_type": "stream",
     "text": [
      "After conditional\n"
     ]
    }
   ],
   "source": [
    "if 'foo' in ['bar', 'baz', 'qux']:\n",
    "     print('Expression was true')\n",
    "     print('Executing statement in suite')\n",
    "     print('...')\n",
    "     print('Done.')\n",
    "\n",
    "print('After conditional')"
   ]
  },
  {
   "cell_type": "code",
   "execution_count": 7,
   "id": "81e7ad05",
   "metadata": {},
   "outputs": [
    {
     "name": "stdout",
     "output_type": "stream",
     "text": [
      "Outer condition is true\n",
      "Between inner conditions\n",
      "Inner condition 2\n",
      "End of outer condition\n",
      "After outer condition\n"
     ]
    }
   ],
   "source": [
    "if 'foo' in ['foo', 'bar', 'baz']:\n",
    "    print('Outer condition is true')\n",
    "    \n",
    "    if 10 > 20 :\n",
    "        print('Inner condition 1')\n",
    "        \n",
    "    print('Between inner conditions')\n",
    "    \n",
    "    if 10 < 20:\n",
    "        print('Inner condition 2')\n",
    "        \n",
    "    print('End of outer condition')\n",
    "print('After outer condition')"
   ]
  },
  {
   "cell_type": "markdown",
   "id": "3402222d",
   "metadata": {},
   "source": [
    "### else and elif"
   ]
  },
  {
   "cell_type": "code",
   "execution_count": 1,
   "id": "8a3dd7dd",
   "metadata": {},
   "outputs": [
    {
     "name": "stdout",
     "output_type": "stream",
     "text": [
      "(first suite)\n",
      "x is small\n"
     ]
    }
   ],
   "source": [
    "x = 20\n",
    "if x < 50:\n",
    "    print('(first suite)')\n",
    "    print('x is small')\n",
    "else:\n",
    "    print('(second suite)')\n",
    "    print('x is large')"
   ]
  },
  {
   "cell_type": "code",
   "execution_count": 8,
   "id": "93ec3a7f",
   "metadata": {},
   "outputs": [
    {
     "name": "stdout",
     "output_type": "stream",
     "text": [
      "uang tidak cukup\n"
     ]
    }
   ],
   "source": [
    "hargaBuku = 20000\n",
    "hargaMajalah = 5000\n",
    "uang = 2000\n",
    "if uang > hargaBuku:\n",
    "    print(\"beli buku\")\n",
    "else:\n",
    "    print(\"uang tidak cukup\")"
   ]
  },
  {
   "cell_type": "code",
   "execution_count": 9,
   "id": "3df547ae",
   "metadata": {},
   "outputs": [
    {
     "name": "stdout",
     "output_type": "stream",
     "text": [
      "foo\n"
     ]
    }
   ],
   "source": [
    "if 'a' in 'bar':\n",
    "    print('foo')\n",
    "elif 1/0:\n",
    "    print(\"This won't happen\")\n",
    "elif var:\n",
    "    print(\"This won't either\")"
   ]
  },
  {
   "cell_type": "markdown",
   "id": "a8d3e7f7",
   "metadata": {},
   "source": [
    "### one line if statement"
   ]
  },
  {
   "cell_type": "code",
   "execution_count": 10,
   "id": "0c843849",
   "metadata": {},
   "outputs": [
    {
     "name": "stdout",
     "output_type": "stream",
     "text": [
      "1\n",
      "2\n",
      "3\n"
     ]
    }
   ],
   "source": [
    "if 'f' in 'foo': print('1'); print('2'); print('3')\n"
   ]
  },
  {
   "cell_type": "code",
   "execution_count": 12,
   "id": "ad49aa9c",
   "metadata": {},
   "outputs": [
    {
     "name": "stdout",
     "output_type": "stream",
     "text": [
      "qux\n",
      "quux\n"
     ]
    }
   ],
   "source": [
    "x=2\n",
    "if x == 1: print('foo'); print('bar'); print('baz')\n",
    "elif x == 2: print('qux'); print('quux')\n",
    "else: print('corge'); print('grault')"
   ]
  },
  {
   "cell_type": "markdown",
   "id": "5c1e339b",
   "metadata": {},
   "source": [
    "### Conditional Expressions"
   ]
  },
  {
   "cell_type": "markdown",
   "id": "242ccd75",
   "metadata": {},
   "source": [
    "If (conditional_expr) is true, (expr1) is returned and (expr2) is not evaluated.\n",
    "If (conditional_expr) is false, (expr2) is returned and (expr1) is not evaluated."
   ]
  },
  {
   "cell_type": "code",
   "execution_count": 15,
   "id": "4afaeded",
   "metadata": {},
   "outputs": [
    {
     "name": "stdout",
     "output_type": "stream",
     "text": [
      "Let's go to the library\n"
     ]
    }
   ],
   "source": [
    "raining = True\n",
    "print(\"Let's go to the\", 'beach' if not raining else 'library')\n"
   ]
  },
  {
   "cell_type": "markdown",
   "id": "e95db370",
   "metadata": {},
   "source": [
    "### The Python pass Statement"
   ]
  },
  {
   "cell_type": "code",
   "execution_count": 16,
   "id": "47bc71bc",
   "metadata": {},
   "outputs": [
    {
     "name": "stdout",
     "output_type": "stream",
     "text": [
      "foo\n"
     ]
    }
   ],
   "source": [
    "if True:\n",
    "    pass\n",
    "print('foo')\n"
   ]
  },
  {
   "cell_type": "markdown",
   "id": "a8448343",
   "metadata": {},
   "source": [
    "# Loops"
   ]
  },
  {
   "cell_type": "markdown",
   "id": "1034c7de",
   "metadata": {},
   "source": [
    "## Python \"while\" Loops\n"
   ]
  },
  {
   "cell_type": "code",
   "execution_count": 17,
   "id": "ff396b4e",
   "metadata": {},
   "outputs": [
    {
     "name": "stdout",
     "output_type": "stream",
     "text": [
      "4\n",
      "3\n",
      "2\n",
      "1\n",
      "0\n"
     ]
    }
   ],
   "source": [
    "n = 5\n",
    "while n > 0:\n",
    "    n -= 1\n",
    "    print(n)"
   ]
  },
  {
   "cell_type": "markdown",
   "id": "8a510960",
   "metadata": {},
   "source": [
    "### break and continue"
   ]
  },
  {
   "cell_type": "code",
   "execution_count": 21,
   "id": "dd00fd26",
   "metadata": {},
   "outputs": [
    {
     "name": "stdout",
     "output_type": "stream",
     "text": [
      "4\n",
      "3\n",
      "Loop ended.\n"
     ]
    }
   ],
   "source": [
    "n = 5\n",
    "while n > 0:\n",
    "    n -= 1\n",
    "    if n == 2:\n",
    "        break\n",
    "    print(n)\n",
    "print('Loop ended.')"
   ]
  },
  {
   "cell_type": "code",
   "execution_count": 21,
   "id": "0d87949a",
   "metadata": {},
   "outputs": [
    {
     "name": "stdout",
     "output_type": "stream",
     "text": [
      "4\n",
      "3\n",
      "Loop ended.\n"
     ]
    }
   ],
   "source": [
    "n = 5\n",
    "while n > 0:\n",
    "    n -= 1\n",
    "    if n == 2:\n",
    "        continue\n",
    "    print(n)\n",
    "print('Loop ended.')"
   ]
  },
  {
   "cell_type": "markdown",
   "id": "de48b910",
   "metadata": {},
   "source": [
    "### The Else Clause"
   ]
  },
  {
   "cell_type": "code",
   "execution_count": 22,
   "id": "72d0eaf7",
   "metadata": {},
   "outputs": [
    {
     "name": "stdout",
     "output_type": "stream",
     "text": [
      "4\n",
      "3\n",
      "2\n",
      "1\n",
      "0\n",
      "Loop done.\n"
     ]
    }
   ],
   "source": [
    "n = 5\n",
    "while n > 0:\n",
    "    n -= 1\n",
    "    print(n)\n",
    "else:\n",
    "    print('Loop done.')"
   ]
  },
  {
   "cell_type": "code",
   "execution_count": 23,
   "id": "3c4d2ad3",
   "metadata": {},
   "outputs": [
    {
     "name": "stdout",
     "output_type": "stream",
     "text": [
      "4\n",
      "3\n",
      "2\n"
     ]
    }
   ],
   "source": [
    "n = 5\n",
    "while n > 0:\n",
    "    n -= 1\n",
    "    print(n)\n",
    "    if n == 2:\n",
    "        break\n",
    "else:\n",
    "    print('Loop done.')"
   ]
  },
  {
   "cell_type": "code",
   "execution_count": 24,
   "id": "797dc77c",
   "metadata": {},
   "outputs": [
    {
     "name": "stdout",
     "output_type": "stream",
     "text": [
      "foo\n",
      "> baz\n",
      "> qux\n",
      "bar\n",
      "> baz\n",
      "> qux\n"
     ]
    }
   ],
   "source": [
    "a = ['foo', 'bar']\n",
    "while len(a):\n",
    "    print(a.pop(0))\n",
    "\n",
    "    b = ['baz', 'qux']\n",
    "\n",
    "    while len(b):\n",
    "        print('>', b.pop(0))"
   ]
  },
  {
   "cell_type": "markdown",
   "id": "113a1bd3",
   "metadata": {},
   "source": [
    "### one-line while loops"
   ]
  },
  {
   "cell_type": "code",
   "execution_count": 25,
   "id": "5736fe55",
   "metadata": {},
   "outputs": [
    {
     "name": "stdout",
     "output_type": "stream",
     "text": [
      "4\n",
      "3\n",
      "2\n",
      "1\n",
      "0\n"
     ]
    }
   ],
   "source": [
    "n = 5\n",
    "while n > 0: n -= 1; print(n)"
   ]
  },
  {
   "cell_type": "markdown",
   "id": "55082732",
   "metadata": {},
   "source": [
    "## The Python FOR Loops"
   ]
  },
  {
   "cell_type": "code",
   "execution_count": 26,
   "id": "b097cde1",
   "metadata": {},
   "outputs": [
    {
     "name": "stdout",
     "output_type": "stream",
     "text": [
      "foo\n",
      "bar\n",
      "baz\n"
     ]
    }
   ],
   "source": [
    "a = ['foo', 'bar', 'baz']\n",
    "for i in a:\n",
    " print(i)\n"
   ]
  },
  {
   "cell_type": "code",
   "execution_count": 33,
   "id": "c95c7c31",
   "metadata": {},
   "outputs": [
    {
     "name": "stdout",
     "output_type": "stream",
     "text": [
      "foo\n",
      "bar\n",
      "baz\n",
      "===========================\n",
      "1\n",
      "2\n",
      "3\n",
      "===========================\n",
      "1\n",
      "2\n",
      "3\n",
      "foo : 1\n",
      "bar : 2\n",
      "baz : 3\n"
     ]
    }
   ],
   "source": [
    "d = { \"foo\" : 1, \"bar\" : 2, \"baz\" : 3}\n",
    "for k in d:\n",
    "     print(k)\n",
    "print(\"===========================\")\n",
    "for k in d:\n",
    "     print(d[k])\n",
    "print(\"===========================\")      \n",
    "for k in d.values():\n",
    "     print(k)\n",
    "print(\"===========================\")       \n",
    "for k, v in d.items(): \n",
    "     print(k, \":\", v) \n"
   ]
  },
  {
   "cell_type": "markdown",
   "id": "77ce93ce",
   "metadata": {},
   "source": [
    "### The range"
   ]
  },
  {
   "cell_type": "code",
   "execution_count": 34,
   "id": "a6fb769a",
   "metadata": {},
   "outputs": [
    {
     "name": "stdout",
     "output_type": "stream",
     "text": [
      "0\n",
      "1\n",
      "2\n",
      "3\n",
      "4\n",
      "5\n",
      "6\n",
      "7\n",
      "8\n",
      "9\n"
     ]
    }
   ],
   "source": [
    "n=0\n",
    "for n in range(10):\n",
    "    print(n)"
   ]
  },
  {
   "cell_type": "markdown",
   "id": "d6ac8f77",
   "metadata": {},
   "source": [
    "### The break and continue Statements"
   ]
  },
  {
   "cell_type": "code",
   "execution_count": 37,
   "id": "251b26d6",
   "metadata": {},
   "outputs": [
    {
     "name": "stdout",
     "output_type": "stream",
     "text": [
      "foo\n",
      "========================\n",
      "foo\n",
      "qux\n"
     ]
    }
   ],
   "source": [
    "for i in ['foo', 'bar', 'baz', 'qux']:\n",
    "    if 'b' in i:\n",
    "        break\n",
    "    print(i)\n",
    "print(\"========================\")\n",
    "for i in ['foo', 'bar', 'baz', 'qux']:\n",
    "    if 'b' in i:\n",
    "        continue\n",
    "    print(i)"
   ]
  },
  {
   "cell_type": "markdown",
   "id": "d6f68570",
   "metadata": {},
   "source": [
    "### The else clause"
   ]
  },
  {
   "cell_type": "code",
   "execution_count": 38,
   "id": "0b4c1012",
   "metadata": {},
   "outputs": [
    {
     "name": "stdout",
     "output_type": "stream",
     "text": [
      "foo\n",
      "bar\n",
      "baz\n",
      "qux\n",
      "Done.\n"
     ]
    }
   ],
   "source": [
    "for i in ['foo', 'bar', 'baz', 'qux']:\n",
    "    print(i)\n",
    "else:\n",
    "    print('Done.')"
   ]
  },
  {
   "cell_type": "code",
   "execution_count": 40,
   "id": "c04729ca",
   "metadata": {},
   "outputs": [
    {
     "name": "stdout",
     "output_type": "stream",
     "text": [
      "foo\n"
     ]
    }
   ],
   "source": [
    "for i in ['foo', 'bar', 'baz', 'qux']:\n",
    "    if i == 'bar':\n",
    "        break\n",
    "    print(i)\n",
    "else:\n",
    "    print('Done.')  # Will not execute"
   ]
  },
  {
   "cell_type": "code",
   "execution_count": 2,
   "id": "c8d8ddeb",
   "metadata": {},
   "outputs": [
    {
     "name": "stdout",
     "output_type": "stream",
     "text": [
      "Ketikan temperatur yang ingin dikonversi, eg. 45F, 120C: 96F\n",
      "Temperaturnya adalah 36 derajat\n"
     ]
    },
    {
     "data": {
      "text/plain": [
       "96"
      ]
     },
     "execution_count": 2,
     "metadata": {},
     "output_type": "execute_result"
    }
   ],
   "source": [
    "temp = input(\"Ketikan temperatur yang ingin dikonversi, eg. 45F, 120C: \")\n",
    "degree = int(temp[:-1])\n",
    "i_convertion = temp[-1]\n",
    "\n",
    "if i_convertion == \"C\":\n",
    "    result = int(round((9 * degree) / 5 + 32))\n",
    "elif i_convertion == \"F\":\n",
    "    result = int(round((degree - 32) * 5 / 9))\n",
    "else:\n",
    "    print(\"Masukan input yang benar\")\n",
    "print(\"Temperaturnya adalah\", result, \"derajat\")\n",
    "degree"
   ]
  },
  {
   "cell_type": "code",
   "execution_count": null,
   "id": "f1885a6d",
   "metadata": {},
   "outputs": [],
   "source": []
  }
 ],
 "metadata": {
  "kernelspec": {
   "display_name": "Python 3 (ipykernel)",
   "language": "python",
   "name": "python3"
  },
  "language_info": {
   "codemirror_mode": {
    "name": "ipython",
    "version": 3
   },
   "file_extension": ".py",
   "mimetype": "text/x-python",
   "name": "python",
   "nbconvert_exporter": "python",
   "pygments_lexer": "ipython3",
   "version": "3.11.4"
  },
  "toc": {
   "base_numbering": 1,
   "nav_menu": {},
   "number_sections": true,
   "sideBar": true,
   "skip_h1_title": false,
   "title_cell": "Table of Contents",
   "title_sidebar": "Contents",
   "toc_cell": false,
   "toc_position": {},
   "toc_section_display": true,
   "toc_window_display": false
  }
 },
 "nbformat": 4,
 "nbformat_minor": 5
}
