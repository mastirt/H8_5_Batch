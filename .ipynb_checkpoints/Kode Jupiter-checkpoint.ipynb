{
 "cells": [
  {
   "cell_type": "markdown",
   "id": "2d85703b",
   "metadata": {},
   "source": [
    "# KODE JUPYTER"
   ]
  },
  {
   "cell_type": "markdown",
   "id": "6b4889c3",
   "metadata": {},
   "source": [
    "## simple syntax"
   ]
  },
  {
   "cell_type": "code",
   "execution_count": 1,
   "id": "e66c48b6",
   "metadata": {},
   "outputs": [
    {
     "name": "stdout",
     "output_type": "stream",
     "text": [
      "Haloooo Mahesa\n"
     ]
    }
   ],
   "source": [
    "print(\"Haloooo Mahesa\")"
   ]
  },
  {
   "cell_type": "code",
   "execution_count": 2,
   "id": "ecca1172",
   "metadata": {},
   "outputs": [
    {
     "name": "stdout",
     "output_type": "stream",
     "text": [
      "1\n",
      "2\n",
      "3\n",
      "4\n",
      "5\n",
      "6\n",
      "7\n",
      "8\n",
      "9\n",
      "10\n"
     ]
    }
   ],
   "source": [
    "i = 1\n",
    "\n",
    "while (i <=10):\n",
    "    print(i)\n",
    "    i += 1"
   ]
  },
  {
   "cell_type": "markdown",
   "id": "b9545403",
   "metadata": {},
   "source": [
    "## Using Library"
   ]
  },
  {
   "cell_type": "code",
   "execution_count": 3,
   "id": "734475db",
   "metadata": {},
   "outputs": [],
   "source": [
    "import pandas as pd\n",
    "import numpy as np"
   ]
  },
  {
   "cell_type": "code",
   "execution_count": 4,
   "id": "8eb59536",
   "metadata": {},
   "outputs": [
    {
     "data": {
      "text/html": [
       "<div>\n",
       "<style scoped>\n",
       "    .dataframe tbody tr th:only-of-type {\n",
       "        vertical-align: middle;\n",
       "    }\n",
       "\n",
       "    .dataframe tbody tr th {\n",
       "        vertical-align: top;\n",
       "    }\n",
       "\n",
       "    .dataframe thead th {\n",
       "        text-align: right;\n",
       "    }\n",
       "</style>\n",
       "<table border=\"1\" class=\"dataframe\">\n",
       "  <thead>\n",
       "    <tr style=\"text-align: right;\">\n",
       "      <th></th>\n",
       "      <th>A</th>\n",
       "      <th>B</th>\n",
       "      <th>C</th>\n",
       "    </tr>\n",
       "  </thead>\n",
       "  <tbody>\n",
       "    <tr>\n",
       "      <th>0</th>\n",
       "      <td>1</td>\n",
       "      <td>2</td>\n",
       "      <td>3</td>\n",
       "    </tr>\n",
       "    <tr>\n",
       "      <th>1</th>\n",
       "      <td>4</td>\n",
       "      <td>5</td>\n",
       "      <td>6</td>\n",
       "    </tr>\n",
       "  </tbody>\n",
       "</table>\n",
       "</div>"
      ],
      "text/plain": [
       "   A  B  C\n",
       "0  1  2  3\n",
       "1  4  5  6"
      ]
     },
     "execution_count": 4,
     "metadata": {},
     "output_type": "execute_result"
    }
   ],
   "source": [
    "data = pd.DataFrame(data=np.array([[1,2,3],[4,5,6]], dtype=int), columns=['A', 'B', 'C'])\n",
    "data"
   ]
  },
  {
   "cell_type": "markdown",
   "id": "b68229a2",
   "metadata": {},
   "source": [
    "## Using Latex\n"
   ]
  },
  {
   "cell_type": "markdown",
   "id": "d85716e0",
   "metadata": {},
   "source": [
    "$$\n",
    "c = \\sqrt{a^2 + b^2}\n",
    "$$"
   ]
  },
  {
   "cell_type": "code",
   "execution_count": 5,
   "id": "7daef03b",
   "metadata": {},
   "outputs": [
    {
     "data": {
      "text/latex": [
       "$\\displaystyle \\sqrt{a^2 + b^2}$"
      ],
      "text/plain": [
       "<IPython.core.display.Math object>"
      ]
     },
     "metadata": {},
     "output_type": "display_data"
    }
   ],
   "source": [
    "from IPython.display import display, Math, Latex\n",
    "display(Math(r'\\sqrt{a^2 + b^2}'))"
   ]
  },
  {
   "cell_type": "markdown",
   "id": "91e69686",
   "metadata": {},
   "source": [
    "## Executing Shell Commands"
   ]
  },
  {
   "cell_type": "code",
   "execution_count": 32,
   "id": "9deec093",
   "metadata": {},
   "outputs": [
    {
     "name": "stdout",
     "output_type": "stream",
     "text": [
      " Volume in drive C is Acer\n",
      " Volume Serial Number is 0C27-0470\n",
      "\n",
      " Directory of C:\\Users\\mahesa\\OneDrive\\Documents\\Tugas Kuliah\\semester7\\HACKTIVE8\\H8_5_Batch\n",
      "\n",
      "15/08/2023  21:28    <DIR>          .\n",
      "15/08/2023  20:26    <DIR>          ..\n",
      "15/08/2023  20:26    <DIR>          .ipynb_checkpoints\n",
      "15/08/2023  21:28             5.453 Kode Jupiter.ipynb\n",
      "               1 File(s)          5.453 bytes\n",
      "               3 Dir(s)  174.633.631.744 bytes free\n",
      "C:\\Users\\mahesa\\OneDrive\\Documents\\Tugas Kuliah\\semester7\\HACKTIVE8\\H8_5_Batch\n",
      "'Heloo'\n"
     ]
    }
   ],
   "source": [
    "!dir\n",
    "!cd\n",
    "!echo 'Heloo'"
   ]
  },
  {
   "cell_type": "markdown",
   "id": "53a33971",
   "metadata": {},
   "source": [
    "### pass value to and from shell"
   ]
  },
  {
   "cell_type": "code",
   "execution_count": 33,
   "id": "b26716d5",
   "metadata": {},
   "outputs": [
    {
     "name": "stdout",
     "output_type": "stream",
     "text": [
      "[' Volume in drive C is Acer', ' Volume Serial Number is 0C27-0470', '', ' Directory of C:\\\\Users\\\\mahesa\\\\OneDrive\\\\Documents\\\\Tugas Kuliah\\\\semester7\\\\HACKTIVE8\\\\H8_5_Batch', '', '15/08/2023  21:28    <DIR>          .', '15/08/2023  20:26    <DIR>          ..', '15/08/2023  20:26    <DIR>          .ipynb_checkpoints', '15/08/2023  21:28             5.453 Kode Jupiter.ipynb', '               1 File(s)          5.453 bytes', '               3 Dir(s)  174.633.410.560 bytes free']\n"
     ]
    }
   ],
   "source": [
    "files = !dir\n",
    "print(files)"
   ]
  },
  {
   "cell_type": "code",
   "execution_count": null,
   "id": "bc9ec1f4",
   "metadata": {},
   "outputs": [],
   "source": []
  },
  {
   "cell_type": "code",
   "execution_count": null,
   "id": "02ce14e4",
   "metadata": {},
   "outputs": [],
   "source": []
  }
 ],
 "metadata": {
  "kernelspec": {
   "display_name": "Python 3 (ipykernel)",
   "language": "python",
   "name": "python3"
  },
  "language_info": {
   "codemirror_mode": {
    "name": "ipython",
    "version": 3
   },
   "file_extension": ".py",
   "mimetype": "text/x-python",
   "name": "python",
   "nbconvert_exporter": "python",
   "pygments_lexer": "ipython3",
   "version": "3.11.4"
  },
  "toc": {
   "base_numbering": 1,
   "nav_menu": {},
   "number_sections": true,
   "sideBar": true,
   "skip_h1_title": false,
   "title_cell": "Table of Contents",
   "title_sidebar": "Contents",
   "toc_cell": false,
   "toc_position": {},
   "toc_section_display": true,
   "toc_window_display": false
  }
 },
 "nbformat": 4,
 "nbformat_minor": 5
}
